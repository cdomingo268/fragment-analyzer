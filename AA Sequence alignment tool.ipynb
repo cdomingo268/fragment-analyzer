{
 "cells": [
  {
   "cell_type": "markdown",
   "id": "679b2d93",
   "metadata": {},
   "source": [
    "# Collagenase (Clostridium histolyticum) Digest of Collagen Capsules"
   ]
  },
  {
   "cell_type": "markdown",
   "id": "9926e34a",
   "metadata": {},
   "source": [
    "## Sequence Data\n",
    "### National Library of Medicine - National Center for Biotechnology Information \n",
    "https://www.ncbi.nlm.nih.gov/\n",
    "1. Collagen, type I, alpha 2 [Bos taurus] (https://www.ncbi.nlm.nih.gov/protein/AAI49096.1)\n",
    "2. Collagen, type I, alpha 1 [Bos taurus] (https://www.ncbi.nlm.nih.gov/protein/AAI05185.1)\n",
    "3. Collagen, type III, alpha 1 [Bos taurus] (https://www.ncbi.nlm.nih.gov/protein/AAI23470.1)"
   ]
  },
  {
   "cell_type": "code",
   "execution_count": 1,
   "id": "52af577e",
   "metadata": {},
   "outputs": [],
   "source": [
    "# function to split sequence into fragments at the cut site\n",
    "def cut(seq, cs):\n",
    "    new_fragments = seq.replace(cs, cs[0] + ' ' + cs[1:])\n",
    "    return new_fragments\n",
    "\n",
    "# function to find the maximum fragment size\n",
    "def find_max_length(name, seq, cts):\n",
    "    answer = cut(seq, cts[0])\n",
    "    for i in range(len(cts)):\n",
    "        answer = cut(answer, cts[i])\n",
    "        answer_list = answer.split(' ')\n",
    "    res = sorted(answer_list, key=len, reverse=True)[0]\n",
    "    print('{} post collagenase treatment:\\n\\tNumber of fragments: {}\\n\\tMaximum peptide length: {} amino acids'.format(name,len(answer_list), len(res)))\n",
    "    return res"
   ]
  },
  {
   "cell_type": "code",
   "execution_count": 2,
   "id": "855bd1c3",
   "metadata": {},
   "outputs": [],
   "source": [
    "# amino acid sequence data\n",
    "collagen_type_1_alpha_2 = 'mlsfvdtrtllllavtsclatcqslqeatarkgpsgdrgprgergppgppgrdgddgipgppgppgppgppglggnfaaqfdakgggpgpmglmgprgppgasgapgpfqgppgepgepgqtgpagargppgppgkagedghpgkpgrpgergvvgpqgargfpgtpglpgfkgirghngldglkgqpgapgvkgepgapgengtpgqtgarglpgergrvgapgpagargsdgsvgpvgpagpigsagppgfpgapgpkgelgpvgnpgpagpagprgevglpglsgpvgppgnpganglpgakgaaglpgvagapglpgprgipgpvgaagatgarglvgepgpagskgesgnkgepgavgqpgppgpsgeegkrgstgeigpagppgppglrgnpgsrglpgadgragvmgpagsrgatgpagvrgpngdsgrpgepglmgprgfpgspgnigpagkegpvglpgidgrpgpigpagargepgnigfpgpkgpsgdpgkagekghaglagargapgpdgnngaqgppglqgvqggkgeqgpagppgfqglpgpagtageagkpgergipgefglpgpagargergppgesgaagptgpigsrgpsgppgpdgnkgepgvvgapgtagpsgpsglpgergaagipggkgekgetglrgdigspgrdgargapgaigapgpagangdrgeagpagpagpagprgspgergevgpagpngfagpagaagqpgakgergtkgpkgengpvgptgpvgaagpsgpngppgpagsrgdggppgatgfpgaagrtgppgpsgisgppgppgpagkeglrgprgdqgpvgrsgetgasgppgfvgekgpsgepgtagppgtpgpqgllgapgflglpgsrgerglpgvagsvgepgplgiagppgargppgnvgnpgvngapgeagrdgnpgndgppgrdgqpghkgergypgnagpvgaagapgpqgpvgpvgkhgnrgepgpagavgpagavgprgpsgpqgirgdkgepgdkgprglpglkghnglqglpglaghhgdqgapgavgpagprgpagpsgpagkdgrigqpgavgpagirgsqgsqgpagppgppgppgppgpsgggyefgfdgdfyradqprsptslrpkdyevdatlkslnnqietlltpegsrknpartcrdlrlshpewssgyywidpnqgctmdaikvycdfstgetciraqpedipvknwyrnskakkhvwvgetinggtqfeynvegvttkematqlafmrllanhasqnityhcknsiaymdeetgnlkkavilqgsndvelvaegnsrftytvlvdgcskktnewqktiieyktnkpsrlpildiapldiggadqeirlnigpvcfk'\n",
    "collagen_type_1_alpha_1 = 'mfsfvdlrlllllaatallthgqeegqeegqeedippvtcvqnglryhdrdvwkpvpcqivcdngnvlcddvicdelkdcpnakvptdeccpvcpegqesptdqettgvegpkgdtgprgprgpagppgrdgipgqpglpgppgppgppgppglggnfapqlsygydekstgisvpgpmgpsgprglpgppgapgpqgfqgppgepgepgasgpmgprgppgppgkngddgeagkpgrpgergppgpqgarglpgtaglpgmkghrgfsgldgakgdagpagpkgepgspgengapgqmgprglpgergrpgapgpagargndgatgaagppgptgpagppgfpgavgakgeggpqgprgsegpqgvrgepgppgpagaagpagnpgadgqpgakgangapgiagapgfpgargpsgpqgpsgppgpkgnsgepgapgskgdtgakgepgptgiqgppgpageegkrgargepgpaglpgppgerggpgsrgfpgadgvagpkgpagergapgpagpkgspgeagrpgeaglpgakgltgspgspgpdgktgppgpagqdgrpgppgppgargqagvmgfpgpkgaagepgkagergvpgppgavgpagkdgeagaqgppgpagpagergeqgpagspgfqglpgpagppgeagkpgeqgvpgdlgapgpsgargergfpgergvqgppgpagprgangapgndgakgdagapgapgsqgapglqgmpgergaaglpgpkgdrgdagpkgadgapgkdgvrgltgpigppgpagapgdkgeagpsgpagptgargapgdrgepgppgpagfagppgadgqpgakgepgdagakgdagppgpagpagppgpignvgapgpkgargsagppgatgfpgaagrvgppgpsgnagppgppgpagkegskgprgetgpagrpgevgppgppgpagekgapgadgpagapgtpgpqgiagqrgvvglpgqrgergfpglpgpsgepgkqgpsgasgergppgpmgppglagppgesgregapgaegspgrdgspgakgdrgetgpagppgapgapgapgpvgpagksgdrgetgpagpagpigpvgargpagpqgprgdkgetgeqgdrgikghrgfsglqgppgppgspgeqgpsgasgpagprgppgsagspgkdglnglpgpigppgprgrtgdagpagppgppgppgppgppsggydlsflpqppqekahdggryyraddanvvrdrdlevdttlkslsqqienirspegsrknpartcrdlkmchsdwksgeywidpnqgcnldaikvfcnmetgetcvyptqpsvaqknwyisknpkekrhvwygesmtggfqfeyggqgsdpadvaiqltflrlmsteasqnityhcknsvaymdqqtgnlkkalllqgsneieiraegnsrftysvtydgctshtgawgktvieykttktsrlpiidvapldvgapdqefgfdvgpacfl'\n",
    "collagen_type_3_alpha_1 = 'mmsfvqkgtwllfallhptvilaqqeavdggcshlgqsyadrdvwkpepcqicvcdsgsvlcddiicddqeldcpnpeipfgeccavcpqpptaptrppngqgpqgpkgdpgppgipgrngdpgppgspgspgspgppgicescptggqnyspqyeaydvksgvagggiagypgpagppgppgppgtsghpgapgapgyqgppgepgqagpagppgppgaigpsgpagkdgesgrpgrpgergfpgppgmkgpagmpgfpgmkghrgfdgrngekgetgapglkgengvpgengapgpmgprgapgergrpglpgaagargndgargsdgqpgppgppgtagfpgspgakgevgpagspgssgapgqrgepgpqghagapgppgppgsngspggkgemgpagipgapgligargppgppgtngvpgqrgaagepgkngakgdpgprgergeagspgiagpkgedgkdgspgepganglpgaagergvpgfrgpaganglpgekgppgdrggpgpagprgvagepgrdglpggpglrgipgspggpgsdgkpgppgsqgetgrpgppgspgprgqpgvmgfpgpkgndgapgkngerggpggpgpqgpagkngetgpqgppgptgpsgdkgdtgppgpqglqglpgtsgppgengkpgepgpkgeagapgipggkgdsgapgergppgaggppgprggagppgpeggkgaagppgppgsagtpglqgmpgerggpggpgpkgdkgepgssgvdgapgkdgprgptgpigppgpagqpgdkgesgapgvpgiagprggpgergeqgppgpagfpgapgqngepgakgergapgekgeggppgaagpaggsgpagppgpqgvkgergspggpgaagfpggrgppgppgsngnpgppgssgapgkdgppgppgsngapgspgisgpkgdsgppgergapgpqgppgapgplgiagltgarglagppgmpgargspgpqgikgengkpgpsgqngergppgpqglpglagtagepgrdgnpgsdglpgrdgapgakgdrgengspgapgapghpgppgpvgpagksgdrgetgpagpsgapgpagsrgppgpqgprgdkgetgergamgikghrgfpgnpgapgspgpaghqgavgspgpagprgpvgpsgppgkdgasghpgpigppgprgnrgergsegspghpgqpgppgppgapgpccgaggvaaiagvgaekaggfapyygdepidfkintdeimtslksvngqieslispdgsrknparncrdlkfchpelqsgeywvdpnqgckldaikvycnmetgetcisaspltipqknwwtdsgaekkhvwfgesmeggfqfsygnpelpedvldvqlaflrllssrasqnityhcknsiaymdhasgnvkkalklmgsnegefkaegnskftytvledgctkhtgewgktvfqyqtrkavrlpivdiapydiggpdqefgadigpvcfl'\n",
    "cutsites = ['psgp','ptgp','pygp','pngp','pcgp','pqgp', 'pgsp', 'pgtp', 'pgyp', 'pgnp', 'pgcp', 'pgqp']"
   ]
  },
  {
   "cell_type": "code",
   "execution_count": 3,
   "id": "5f4d34f0",
   "metadata": {},
   "outputs": [
    {
     "name": "stdout",
     "output_type": "stream",
     "text": [
      "Collagen I (alpha 1) post collagenase treatment:\n",
      "\tNumber of fragments: 14\n",
      "\tMaximum peptide length: 341 amino acids\n"
     ]
    },
    {
     "data": {
      "text/plain": [
       "'gspgeqgpsgasgpagprgppgsagspgkdglnglpgpigppgprgrtgdagpagppgppgppgppgppsggydlsflpqppqekahdggryyraddanvvrdrdlevdttlkslsqqienirspegsrknpartcrdlkmchsdwksgeywidpnqgcnldaikvfcnmetgetcvyptqpsvaqknwyisknpkekrhvwygesmtggfqfeyggqgsdpadvaiqltflrlmsteasqnityhcknsvaymdqqtgnlkkalllqgsneieiraegnsrftysvtydgctshtgawgktvieykttktsrlpiidvapldvgapdqefgfdvgpacfl'"
      ]
     },
     "execution_count": 3,
     "metadata": {},
     "output_type": "execute_result"
    }
   ],
   "source": [
    "# Collagen type 1 alpha 1 analysis\n",
    "find_max_length('Collagen I (alpha 1)', collagen_type_1_alpha_1, cutsites)"
   ]
  },
  {
   "cell_type": "code",
   "execution_count": 4,
   "id": "035e6b6c",
   "metadata": {},
   "outputs": [
    {
     "name": "stdout",
     "output_type": "stream",
     "text": [
      "Collagen I (alpha 2) post collagenase treatment:\n",
      "\tNumber of fragments: 14\n",
      "\tMaximum peptide length: 308 amino acids\n"
     ]
    },
    {
     "data": {
      "text/plain": [
       "'sgpagkdgrigqpgavgpagirgsqgsqgpagppgppgppgppgpsgggyefgfdgdfyradqprsptslrpkdyevdatlkslnnqietlltpegsrknpartcrdlrlshpewssgyywidpnqgctmdaikvycdfstgetciraqpedipvknwyrnskakkhvwvgetinggtqfeynvegvttkematqlafmrllanhasqnityhcknsiaymdeetgnlkkavilqgsndvelvaegnsrftytvlvdgcskktnewqktiieyktnkpsrlpildiapldiggadqeirlnigpvcfk'"
      ]
     },
     "execution_count": 4,
     "metadata": {},
     "output_type": "execute_result"
    }
   ],
   "source": [
    "# Collagen type 1 alpha 2 analysis\n",
    "find_max_length('Collagen I (alpha 2)',collagen_type_1_alpha_2, cutsites)"
   ]
  },
  {
   "cell_type": "code",
   "execution_count": 5,
   "id": "89d1d933",
   "metadata": {},
   "outputs": [
    {
     "name": "stdout",
     "output_type": "stream",
     "text": [
      "Collagen III (alpha 1) post collagenase treatment:\n",
      "\tNumber of fragments: 19\n",
      "\tMaximum peptide length: 285 amino acids\n"
     ]
    },
    {
     "data": {
      "text/plain": [
       "'gqpgppgppgapgpccgaggvaaiagvgaekaggfapyygdepidfkintdeimtslksvngqieslispdgsrknparncrdlkfchpelqsgeywvdpnqgckldaikvycnmetgetcisaspltipqknwwtdsgaekkhvwfgesmeggfqfsygnpelpedvldvqlaflrllssrasqnityhcknsiaymdhasgnvkkalklmgsnegefkaegnskftytvledgctkhtgewgktvfqyqtrkavrlpivdiapydiggpdqefgadigpvcfl'"
      ]
     },
     "execution_count": 5,
     "metadata": {},
     "output_type": "execute_result"
    }
   ],
   "source": [
    "# Collagen type 3 alpha 1 analysis\n",
    "find_max_length('Collagen III (alpha 1)',collagen_type_3_alpha_1, cutsites)"
   ]
  }
 ],
 "metadata": {
  "kernelspec": {
   "display_name": "Python 3 (ipykernel)",
   "language": "python",
   "name": "python3"
  },
  "language_info": {
   "codemirror_mode": {
    "name": "ipython",
    "version": 3
   },
   "file_extension": ".py",
   "mimetype": "text/x-python",
   "name": "python",
   "nbconvert_exporter": "python",
   "pygments_lexer": "ipython3",
   "version": "3.11.4"
  }
 },
 "nbformat": 4,
 "nbformat_minor": 5
}
